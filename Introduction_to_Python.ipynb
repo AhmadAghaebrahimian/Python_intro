{
  "nbformat": 4,
  "nbformat_minor": 0,
  "metadata": {
    "colab": {
      "provenance": [],
      "toc_visible": true,
      "authorship_tag": "ABX9TyNGxYaSQB4UO3GI3M0GR4qR",
      "include_colab_link": true
    },
    "kernelspec": {
      "name": "python3",
      "display_name": "Python 3"
    },
    "language_info": {
      "name": "python"
    }
  },
  "cells": [
    {
      "cell_type": "markdown",
      "metadata": {
        "id": "view-in-github",
        "colab_type": "text"
      },
      "source": [
        "<a href=\"https://colab.research.google.com/github/AhmadAghaebrahimian/Python_intro/blob/main/Introduction_to_Python.ipynb\" target=\"_parent\"><img src=\"https://colab.research.google.com/assets/colab-badge.svg\" alt=\"Open In Colab\"/></a>"
      ]
    },
    {
      "cell_type": "markdown",
      "source": [
        "#**A Gentle Introduction to Python Programming Language**"
      ],
      "metadata": {
        "id": "WFcbh-wH9ScU"
      }
    },
    {
      "cell_type": "markdown",
      "source": [
        "##**Introduction**\n"
      ],
      "metadata": {
        "id": "x1J7pp6F5rHj"
      }
    },
    {
      "cell_type": "markdown",
      "source": [
        "###**Brief history of Python**"
      ],
      "metadata": {
        "id": "nC-XTp3G9P_g"
      }
    },
    {
      "cell_type": "markdown",
      "source": [
        "###**Setting up Python development environment**\n",
        "\n",
        "The initial action in developing Python applications is to have the Python interpreter installed on your system, which may vary slightly based on the operating system you are using. Installing a virtual environment and an Integrated Development Interface (IDE) is highly recommended."
      ],
      "metadata": {
        "id": "i3_Irbr26p8E"
      }
    },
    {
      "cell_type": "markdown",
      "source": [
        "####*Installing Python*\n",
        "\n",
        "- Linux: Most Linux distributions come with Python pre-installed, but you may want to install a newer version. This can be done using the package manager for your distribution (e.g. apt for Debian-based systems, yum for Red Hat-based systems).\n",
        "\n",
        "- macOS: Python comes pre-installed on macOS, but you may want to install a newer version. This can be done using a package manager such as Homebrew or MacPorts.\n",
        "\n",
        "- Windows: Download the Python installer from the official website and run it to install Python."
      ],
      "metadata": {
        "id": "Z7OFvK9u62WP"
      }
    },
    {
      "cell_type": "markdown",
      "source": [
        "####*Installing a virtual environmet*\n",
        "\n",
        "The next step in setting up Python development environment is to create a virtual environment using virtual . Virtual environments are an essential tool for Python development that helps maintain a clean and organized development environment, ensuring the stability and reproducibility of your projects.\n",
        "\n",
        "- Linux\n",
        "- macOS\n",
        "- Windows"
      ],
      "metadata": {
        "id": "UCIeUDOC_Vev"
      }
    },
    {
      "cell_type": "markdown",
      "source": [
        "####*Installing Integrated Development Environment*\n",
        "\n",
        "The last action is to install a code editor or Integrated Development Environment (IDE) such as Visual Studio Code, PyCharm, or IDLE (the built-in Python editor). The subsequent text will consider PyCharm as the default IDE, however, all the instructions can also be carried out within other IDEs.\n",
        "\n",
        "- Linux\n",
        "- macOS\n",
        "- Windows"
      ],
      "metadata": {
        "id": "EAIQcNMG_YTD"
      }
    },
    {
      "cell_type": "markdown",
      "source": [
        "-----"
      ],
      "metadata": {
        "id": "tyVPqFQ0AQLa"
      }
    },
    {
      "cell_type": "markdown",
      "source": [
        "###**Basics**\n",
        "\n",
        "Python is a high-level language and is known for its readability and ease of use. Python uses indentation to define blocks of code, such as loops or functions. Variables in Python are defined using the equal sign (=) and do not require a type to be specified. Python has several built-in data types, including numbers (integers and floats), strings, lists, dictionaries, and booleans. It supports the usual arithmetic operators (+, -, *, /, \\%), comparison operators (==, !=, <, >, <=, >=), and logical operators (and, or, not). Conditional statements in Python are defined using the keywords if, elif, and else. Python has a large standard library and also allows users to import external modules using the import statement. The following chapters will provide a detailed elaboration of all these concepts.\n"
      ],
      "metadata": {
        "id": "TtgvIaKfEIp3"
      }
    },
    {
      "cell_type": "markdown",
      "source": [
        "####**Variables**\n"
      ],
      "metadata": {
        "id": "HddkmlHvEnGJ"
      }
    },
    {
      "cell_type": "markdown",
      "source": [
        "####**Data types**\n"
      ],
      "metadata": {
        "id": "k-E51riqEyJv"
      }
    },
    {
      "cell_type": "markdown",
      "source": [
        "####Operators\n"
      ],
      "metadata": {
        "id": "KPWNe8wQEySY"
      }
    },
    {
      "cell_type": "markdown",
      "source": [
        "####**Conditionals**\n",
        "\n",
        "- If statement\n",
        "- If-Else statement\n",
        "- If-Elif-Else statement"
      ],
      "metadata": {
        "id": "ldKiQSNjIVFX"
      }
    },
    {
      "cell_type": "markdown",
      "source": [
        "####**Loops**\n",
        "- For loop\n",
        "- While loop\n"
      ],
      "metadata": {
        "id": "puVFY3Z_Iogd"
      }
    },
    {
      "cell_type": "markdown",
      "source": [
        "####**Loop control**\n",
        "- Break statement\n",
        "- Continue statement\n",
        "- Pass statement\n"
      ],
      "metadata": {
        "id": "IXOhld-xJGgh"
      }
    },
    {
      "cell_type": "markdown",
      "source": [
        "####**File Input/Output**\n",
        "- Opening and closing files\n",
        "- Reading and writing files\n"
      ],
      "metadata": {
        "id": "HNkXCtPxJlTl"
      }
    },
    {
      "cell_type": "markdown",
      "source": [
        "####**Functions**\n",
        "\n",
        "Functions in Python allow for organizing and reusing code, making it easier to write, test, and maintain large programs. Functions provide a way to encapsulate code blocks and perform specific tasks, allowing for modular and organized code. They also promote code reuse and reduce the risk of bugs by breaking down complex code into smaller, manageable pieces. Additionally, functions can make code easier to read and understand by giving descriptive names to code blocks and abstracting away implementation details.\n",
        "\n"
      ],
      "metadata": {
        "id": "jPUaRbjsGsob"
      }
    },
    {
      "cell_type": "markdown",
      "source": [
        "####**Modules and Libraries**\n",
        "\n",
        "Modules are collections of functions, variables, and other objects that can be imported into other Python files. Modules provide a way to organize related functions and objects into a single, importable file. They help to separate code into different, reusable components and reduce the risk of naming conflicts between different parts of a program.\n",
        "\n",
        "Libraries are collections of modules that provide additional functionality for a programming language. In Python, libraries are usually distributed as packages and can be installed using package managers like pip. They provide a wide range of functionality, including scientific computing, data analysis, machine learning, web development, and more.\n"
      ],
      "metadata": {
        "id": "I0dfSl1eGvV7"
      }
    },
    {
      "cell_type": "markdown",
      "source": [
        "###**Useful modules**\n",
        "\n",
        " \n"
      ],
      "metadata": {
        "id": "Dx2VYTZ0NvFZ"
      }
    },
    {
      "cell_type": "markdown",
      "source": [
        "####*Numpy*\n",
        "\n",
        " \n"
      ],
      "metadata": {
        "id": "jF4TZy98N3ki"
      }
    },
    {
      "cell_type": "markdown",
      "source": [
        "####*Pandas*\n",
        "\n",
        " \n"
      ],
      "metadata": {
        "id": "igzcefJQOIDX"
      }
    },
    {
      "cell_type": "markdown",
      "source": [
        "###**Conclusion**\n",
        "\n",
        "There are five structures as the building blocks of any software program that can be combined in various ways to solve different problems and meet specific requirements. They include:\n",
        "\n",
        "- Sequential structure - Executing a series of statements in a defined order.\n",
        "- Conditional structure - Performing actions based on specific conditions.\n",
        "- Repetitive structure - Repeating a set of instructions multiple times.\n",
        "- Function structure - Creating modular, reusable blocks of code.\n",
        "- Object-Oriented Programming (OOP) - Modeling real-world entities as objects and defining their properties and behaviors.\n",
        "\n",
        "\n",
        "All of these structures are present in Python.\n",
        "  \n",
        "- Sequential structure: Python provides basic syntax for executing statements one after the other, in a sequential manner. \n",
        "- Conditional structure: Python provides if statements to perform actions based on specific conditions.\n",
        "- Repetitive structure: Python provides for and while loops to repeat a set of instructions multiple times.\n",
        "- Function structure: Python provides a mechanism to define functions using the def keyword, allowing developers to create modular, reusable blocks of code.\n",
        "- OOP: Python supports OOP, enabling developers to define classes and objects, encapsulate data and behavior, and implement inheritance and polymorphism.\n",
        "\n",
        "The first four building blocks were introduced in this script. An advanced and formaltraining of these blocks will follow in another course. "
      ],
      "metadata": {
        "id": "AZjsHV06LDEz"
      }
    }
  ]
}